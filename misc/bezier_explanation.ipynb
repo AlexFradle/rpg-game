{
 "cells": [
  {
   "cell_type": "code",
   "execution_count": 1,
   "metadata": {},
   "outputs": [],
   "source": [
    "import handcalcs.render\n",
    "from ctypes import *\n",
    "from numpy.ctypeslib import ndpointer\n",
    "from typing import Union\n",
    "import matplotlib.pyplot as plt\n",
    "from random import randint"
   ]
  },
  {
   "cell_type": "code",
   "execution_count": 4,
   "metadata": {},
   "outputs": [],
   "source": [
    "%load_ext Cython"
   ]
  },
  {
   "cell_type": "markdown",
   "metadata": {},
   "source": [
    "$$\\begin{align}\\beta _{i}^{{(0)}}:=\\beta _{i}{\\mbox{ , }}i=0,\\ldots ,n\\end{align}$$\n",
    "$$\\begin{align}\\beta _{i}^{{(j)}}:=\\beta _{i}^{{(j-1)}}(1-t_{0})+\\beta _{{i+1}}^{{(j-1)}}t_{0}{\\mbox{ , }}i=0,\\ldots ,n-j{\\mbox{ , }}j=1,\\ldots ,n\\end{align}$$"
   ]
  },
  {
   "cell_type": "code",
   "execution_count": 2,
   "metadata": {},
   "outputs": [],
   "source": [
    "def B_py(arr: list, i: int, j: int, t: float) -> float:\n",
    "    \"\"\"\n",
    "    Python Implementation\n",
    "    Using De Casteljau's algorithm:\n",
    "    Gets the one dimensional value of the coords at the provided i value\n",
    "    Recurrence relation:\n",
    "        B(i, j) = B(i, j - 1) * (1 - t) + B(i + 1, j - 1) * t\n",
    "    \"\"\"\n",
    "    return arr[i] if j == 0 else B_py(arr, i, j - 1, t) * (1 - t) + B_py(arr, i + 1, j - 1, t) * t"
   ]
  },
  {
   "cell_type": "code",
   "execution_count": 5,
   "metadata": {},
   "outputs": [],
   "source": [
    "%%cython\n",
    "def B_cy(list arr, int i, int j, float t) -> float:\n",
    "    \"\"\"\n",
    "    Cython Implementation\n",
    "    Using De Casteljau's algorithm:\n",
    "    Gets the one dimensional value of the coords at the provided i value\n",
    "    Recurrence relation:\n",
    "        B(i, j) = B(i, j - 1) * (1 - t) + B(i + 1, j - 1) * t\n",
    "    \"\"\"\n",
    "    return arr[i] if j == 0 else B_cy(arr, i, j - 1, t) * (1 - t) + B_cy(arr, i + 1, j - 1, t) * t"
   ]
  },
  {
   "cell_type": "markdown",
   "metadata": {},
   "source": [
    "C code (compiled to bezier.dll):\n",
    "\n",
    "`gcc -c bezier.c`\n",
    "\n",
    "`gcc -shared -o bezier.dll bezier.o`\n",
    "\n",
    "`gcc -o bezier -I/usr/local/include -L/usr/local/lib bezier.c -lgmp`\n",
    "\n",
    "NUMBER_OF_POINTS can be changed by compiling with `gcc bezier.c -DNUMBER_OF_POINTS=n` where the int n = new NUMBER_OF_POINTS\n",
    "\n",
    "```c\n",
    "#include <stdio.h>\n",
    "#include <stdlib.h>\n",
    "#include <math.h>\n",
    "#define len(x)  (sizeof(x) / sizeof((x)[0]))\n",
    "\n",
    "#ifndef NUMBER_OF_POINTS\n",
    "#define NUMBER_OF_POINTS 1000\n",
    "#endif\n",
    "\n",
    "double B(int *arr, int i, int j, double t){\n",
    "    if(j == 0){\n",
    "        return arr[i];\n",
    "    }else{\n",
    "        return B(arr, i, j - 1, t) * (1 - t) + B(arr, i + 1, j - 1, t) * t;\n",
    "    }\n",
    "}\n",
    "\n",
    "double * get_x(int *control_x, int num_of_control){\n",
    "    int n = num_of_control;\n",
    "\n",
    "    static double x_points[NUMBER_OF_POINTS];\n",
    "    for(int t = 0; t < NUMBER_OF_POINTS; t++){\n",
    "        x_points[t] = B(control_x, 0, n - 1, ((double)t)/((double)NUMBER_OF_POINTS));\n",
    "    }\n",
    "    return x_points;\n",
    "}\n",
    "\n",
    "double * get_y(int *control_y, int num_of_control){\n",
    "    int n = num_of_control;\n",
    "\n",
    "    static double y_points[1000];\n",
    "    for(int t = 0; t < NUMBER_OF_POINTS; t++){\n",
    "        y_points[t] = B(control_y, 0, n - 1, ((double)t)/((double)NUMBER_OF_POINTS));\n",
    "    }\n",
    "    return y_points;\n",
    "}\n",
    "```"
   ]
  },
  {
   "cell_type": "code",
   "execution_count": 6,
   "metadata": {},
   "outputs": [],
   "source": [
    "def get_points(cx: list, cy: list, nop: int, B: Union[B_py, B_cy]) -> tuple:\n",
    "    \"\"\"\n",
    "    Gets points along the bezier curve using the control points\n",
    "    :param cx: Control points x coords\n",
    "    :param cy: Control points y coords\n",
    "    :param nop: Number of points to calculate\n",
    "    :param B: Chosen implementation of B to use\n",
    "    :return: tuple of all x and y coords such that (x[n], y[n]) -> point on curve\n",
    "    \"\"\"\n",
    "    n = len(cx)\n",
    "    x = [B(cx, 0, n - 1, t/nop) for t in range(nop)]\n",
    "    y = [B(cy, 0, n - 1, t/nop) for t in range(nop)]\n",
    "    return x, y\n",
    "\n",
    "\n",
    "def get_points_c(cx: list, cy: list, nop: int) -> tuple:\n",
    "    bezier = CDLL(\"bezier.dll\")\n",
    "    \n",
    "    bezier.get_x.argtypes = [POINTER(c_int), c_int]\n",
    "    bezier.get_y.argtypes = [POINTER(c_int), c_int]\n",
    "    \n",
    "    x_arr_point = (c_int * len(cx))(*cx)\n",
    "    y_arr_point = (c_int * len(cy))(*cy)\n",
    "    \n",
    "    bezier.get_x.restype = ndpointer(dtype=c_double, shape=(nop,))\n",
    "    bezier.get_y.restype = ndpointer(dtype=c_double, shape=(nop,))\n",
    "    \n",
    "    n = len(cx)\n",
    "    x = bezier.get_x(x_arr_point, n)\n",
    "    y = bezier.get_y(y_arr_point, n)\n",
    "    return x, y"
   ]
  },
  {
   "cell_type": "code",
   "execution_count": 14,
   "metadata": {},
   "outputs": [
    {
     "name": "stdout",
     "output_type": "stream",
     "text": [
      "5.87 ms ± 615 µs per loop (mean ± std. dev. of 7 runs, 100 loops each)\n",
      "2.81 ms ± 202 µs per loop (mean ± std. dev. of 7 runs, 100 loops each)\n",
      "124 µs ± 3.6 µs per loop (mean ± std. dev. of 7 runs, 10000 loops each)\n"
     ]
    }
   ],
   "source": [
    "%timeit get_points([1, 10, 14, 8], [5, 15, 3, 5], 1000, B_py)\n",
    "%timeit get_points([1, 10, 14, 8], [5, 15, 3, 5], 1000, B_cy)\n",
    "%timeit get_points_c([1, 10, 14, 8], [5, 15, 3, 5], 1000)"
   ]
  },
  {
   "cell_type": "code",
   "execution_count": 10,
   "metadata": {},
   "outputs": [
    {
     "data": {
      "text/plain": [
       "<IPython.core.display.Javascript object>"
      ]
     },
     "metadata": {},
     "output_type": "display_data"
    },
    {
     "data": {
      "text/html": [
       "<img src=\"data:image/png;base64,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\" width=\"640\">"
      ],
      "text/plain": [
       "<IPython.core.display.HTML object>"
      ]
     },
     "metadata": {},
     "output_type": "execute_result"
    }
   ],
   "source": [
    "%matplotlib notebook\n",
    "\n",
    "control_x = [1, 10, 14, 8]\n",
    "control_y = [5, 15, 3, 5]\n",
    "\n",
    "number_of_points = 1000\n",
    "\n",
    "x_points, y_points = get_points_c(control_x, control_y, number_of_points)\n",
    "\n",
    "fig = plt.figure()\n",
    "ax = plt.subplot(111)\n",
    "\n",
    "for x, y in zip(x_points, y_points):\n",
    "    plt.plot(x, y, marker=\"o\", color=\"red\")\n",
    "\n",
    "for cx, cy in zip(control_x, control_y):\n",
    "    plt.plot(cx, cy, marker=\"o\", color=\"blue\")\n",
    "\n",
    "plt.show()"
   ]
  },
  {
   "cell_type": "code",
   "execution_count": null,
   "metadata": {},
   "outputs": [],
   "source": []
  }
 ],
 "metadata": {
  "kernelspec": {
   "display_name": "Python 3",
   "language": "python",
   "name": "python3"
  },
  "language_info": {
   "codemirror_mode": {
    "name": "ipython",
    "version": 3
   },
   "file_extension": ".py",
   "mimetype": "text/x-python",
   "name": "python",
   "nbconvert_exporter": "python",
   "pygments_lexer": "ipython3",
   "version": "3.7.3"
  }
 },
 "nbformat": 4,
 "nbformat_minor": 1
}
