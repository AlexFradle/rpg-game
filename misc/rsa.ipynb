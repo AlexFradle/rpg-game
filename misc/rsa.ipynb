{
 "cells": [
  {
   "cell_type": "code",
   "execution_count": 1,
   "metadata": {},
   "outputs": [],
   "source": [
    "import handcalcs.render\n",
    "from sympy import *\n",
    "from random import randint\n",
    "from math import gcd\n",
    "%load_ext Cython"
   ]
  },
  {
   "cell_type": "markdown",
   "metadata": {},
   "source": [
    "1. Choose two distinct prime numbers p and q"
   ]
  },
  {
   "cell_type": "code",
   "execution_count": 99,
   "metadata": {},
   "outputs": [],
   "source": [
    "def check_coprime(a, b):\n",
    "    return gcd(a, b) == 1\n",
    "    \n",
    "\n",
    "\n",
    "def get_coprime(n):\n",
    "    while True:\n",
    "        c = randint(2, n - 1)\n",
    "        if check_coprime(n, c):\n",
    "            return c\n",
    "\n",
    "\n",
    "def check_prime(n):\n",
    "    \"\"\"\n",
    "    Checks if n is prime using Fermat primality test\n",
    "    Using the equation:\n",
    "        a^n-1 = 1 (mod n)\n",
    "        where:\n",
    "            a = any coprime\n",
    "            n = integer\n",
    "    \"\"\"\n",
    "    a = get_coprime(n)\n",
    "    return True if a**(n - 1) % n == 1 else False\n",
    "\n",
    "\n",
    "def get_p_and_q():\n",
    "    l = 50\n",
    "    u = 500\n",
    "    p, q = 0, 0\n",
    "    while True:\n",
    "        p = randint(l, u)\n",
    "        p = p if check_prime(p) else 0\n",
    "        if p > 0 and q > 0:\n",
    "            return p, q\n",
    "        q = randint(l, u)\n",
    "        q = q if check_prime(q) else 0\n",
    "        if p > 0 and q > 0:\n",
    "            return p, q"
   ]
  },
  {
   "cell_type": "markdown",
   "metadata": {},
   "source": [
    "2. Compute n = pq"
   ]
  },
  {
   "cell_type": "code",
   "execution_count": 100,
   "metadata": {},
   "outputs": [],
   "source": [
    "p, q = get_p_and_q()\n",
    "n = p * q"
   ]
  },
  {
   "cell_type": "markdown",
   "metadata": {},
   "source": [
    "3. Compute λ(n), where λ is Carmichael's totient function of the product as λ(n) = lcm(p − 1, q − 1)"
   ]
  },
  {
   "cell_type": "code",
   "execution_count": 101,
   "metadata": {},
   "outputs": [],
   "source": [
    "def lcm(a, b):\n",
    "    return abs(a * b) // gcd(a, b)\n",
    "\n",
    "lambda_n = lcm(p - 1, q - 1)"
   ]
  },
  {
   "cell_type": "markdown",
   "metadata": {},
   "source": [
    "4. Choose an integer e such that 1 < e < λ(n) and gcd(e, λ(n)) = 1; that is, e and λ(n) are coprime."
   ]
  },
  {
   "cell_type": "code",
   "execution_count": 102,
   "metadata": {},
   "outputs": [],
   "source": [
    "def get_e():\n",
    "    e = 0\n",
    "    while True:\n",
    "        e = randint(2, lambda_n - 1)\n",
    "        if check_coprime(e, lambda_n):\n",
    "            return e\n",
    "\n",
    "\n",
    "e = get_e()"
   ]
  },
  {
   "cell_type": "markdown",
   "metadata": {},
   "source": [
    "5. Determine d as d ≡ e−1 (mod λ(n)); that is, d is the modular multiplicative inverse of e modulo λ(n)"
   ]
  },
  {
   "cell_type": "code",
   "execution_count": 103,
   "metadata": {},
   "outputs": [],
   "source": [
    "def modular_multiplicative_inverse(a, b):\n",
    "    \"\"\"\n",
    "    Finds where ab (mod b) = 1\n",
    "    \"\"\"\n",
    "    a = a % b\n",
    "    for i in range(1, b): \n",
    "        if ((a * i) % b == 1): \n",
    "            return i\n",
    "\n",
    "        \n",
    "d = modular_multiplicative_inverse(e, lambda_n)"
   ]
  },
  {
   "cell_type": "code",
   "execution_count": 2,
   "metadata": {},
   "outputs": [],
   "source": [
    "class RSA:\n",
    "    def __init__(self, p, q):\n",
    "        self.__n = 0\n",
    "        self.__e = 0\n",
    "        self.__d = 0\n",
    "        self.__make_keys(p, q)\n",
    "    \n",
    "    def public(self):\n",
    "        return self.__n\n",
    "    \n",
    "    @staticmethod\n",
    "    def check_coprime(a, b):\n",
    "        return gcd(a, b) == 1\n",
    "    \n",
    "    def get_coprime(self, n):\n",
    "        while True:\n",
    "            c = randint(2, n - 1)\n",
    "            if self.check_coprime(n, c):\n",
    "                return c\n",
    "\n",
    "    def check_prime(self, n):\n",
    "        \"\"\"\n",
    "        Checks if n is prime using Fermat primality test\n",
    "        Using the equation:\n",
    "            a^n-1 = 1 (mod n)\n",
    "            where:\n",
    "                a = any coprime\n",
    "                n = integer\n",
    "        \"\"\"\n",
    "        a = self.get_coprime(n)\n",
    "        return True if a**(n - 1) % n == 1 else False\n",
    "    \n",
    "    @staticmethod\n",
    "    def lcm(a, b):\n",
    "        return abs(a * b) // gcd(a, b)\n",
    "    \n",
    "    @staticmethod\n",
    "    def modular_multiplicative_inverse(a, b):\n",
    "        \"\"\"\n",
    "        Finds where ab (mod b) = 1\n",
    "        \"\"\"\n",
    "        a = a % b\n",
    "        for i in range(1, b): \n",
    "            if ((a * i) % b == 1): \n",
    "                return i\n",
    "    \n",
    "    def __make_keys(self, p, q):\n",
    "        self.__n = p * q\n",
    "        \n",
    "        lambda_n = self.lcm(p - 1, q - 1)\n",
    "        \n",
    "#         while True:\n",
    "#             e = randint(2, lambda_n - 1)\n",
    "#             if self.check_coprime(e, lambda_n):\n",
    "#                 self.__e = e\n",
    "#                 break\n",
    "\n",
    "        for i in range(2, lambda_n):\n",
    "            if self.check_coprime(i, lambda_n):\n",
    "                self.__e = i\n",
    "                break\n",
    "        \n",
    "        self.__d = self.modular_multiplicative_inverse(self.__e, lambda_n)\n",
    "        print(self.__n, self.__e, self.__d)\n",
    "    \n",
    "    def __encrypt(self, m):\n",
    "        return m**self.__e % self.__n\n",
    "    \n",
    "    def __decrypt(self, c):\n",
    "        return c**self.__d % self.__n\n",
    "    \n",
    "    def encrypt_string(self, p_txt: str) -> list:\n",
    "        return [self.__encrypt(ord(t)) for t in p_txt]\n",
    "    \n",
    "    def decrypt_string(self, c_txt: list) -> str:\n",
    "        return \"\".join([chr(self.__decrypt(c)) for c in c_txt])"
   ]
  },
  {
   "cell_type": "code",
   "execution_count": 20,
   "metadata": {},
   "outputs": [
    {
     "data": {
      "text/plain": [
       "7685677836979517241762874444847696181634383575127578883898962413466159222971562962839371812117355967675267747763823159274337585669775677578225359169152686393392384815368552477551875624521832173483889987211486238331684443347638871373812332528429833632514988939515771229137122965535521443943963653463527725126426"
      ]
     },
     "execution_count": 20,
     "metadata": {},
     "output_type": "execute_result"
    }
   ],
   "source": [
    "digits = int(\"\".join([str(randint(1, 9)) for i in range(310)]))\n",
    "digits"
   ]
  },
  {
   "cell_type": "code",
   "execution_count": 99,
   "metadata": {},
   "outputs": [],
   "source": [
    "rsa_c = RSA_C(307, 331)"
   ]
  },
  {
   "cell_type": "code",
   "execution_count": 100,
   "metadata": {},
   "outputs": [
    {
     "data": {
      "text/plain": [
       "'\\x00\\x00\\x00\\x00𘤶\\x00'"
      ]
     },
     "execution_count": 100,
     "metadata": {},
     "output_type": "execute_result"
    }
   ],
   "source": [
    "es = rsa_c.encrypt_string(\"abcdef\")\n",
    "rsa_c.decrypt_string(es)"
   ]
  },
  {
   "cell_type": "code",
   "execution_count": 7,
   "metadata": {},
   "outputs": [
    {
     "name": "stdout",
     "output_type": "stream",
     "text": [
      "3233 7 223\n",
      "[84, 101, 115, 116]\n",
      "[1623, 3071, 567, 1762]\n"
     ]
    },
    {
     "data": {
      "text/plain": [
       "'Test'"
      ]
     },
     "execution_count": 7,
     "metadata": {},
     "output_type": "execute_result"
    }
   ],
   "source": [
    "rsa = RSA(53, 61)\n",
    "ea = rsa.encrypt_string(\"Test\")\n",
    "print([ord(i) for i in \"Test\"])\n",
    "print(ea)\n",
    "rsa.decrypt_string(ea)"
   ]
  },
  {
   "cell_type": "code",
   "execution_count": 17,
   "metadata": {},
   "outputs": [
    {
     "data": {
      "text/plain": [
       "38"
      ]
     },
     "execution_count": 17,
     "metadata": {},
     "output_type": "execute_result"
    }
   ],
   "source": [
    "n = 253519069291\n",
    "n.bit_length()"
   ]
  },
  {
   "cell_type": "code",
   "execution_count": 1,
   "metadata": {},
   "outputs": [
    {
     "name": "stdout",
     "output_type": "stream",
     "text": [
      "737\n"
     ]
    }
   ],
   "source": [
    "print(1622 ** 233 % 3233)"
   ]
  },
  {
   "cell_type": "code",
   "execution_count": null,
   "metadata": {},
   "outputs": [],
   "source": []
  }
 ],
 "metadata": {
  "kernelspec": {
   "display_name": "Python 3",
   "language": "python",
   "name": "python3"
  },
  "language_info": {
   "codemirror_mode": {
    "name": "ipython",
    "version": 3
   },
   "file_extension": ".py",
   "mimetype": "text/x-python",
   "name": "python",
   "nbconvert_exporter": "python",
   "pygments_lexer": "ipython3",
   "version": "3.7.3"
  }
 },
 "nbformat": 4,
 "nbformat_minor": 1
}
