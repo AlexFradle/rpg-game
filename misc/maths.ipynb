{
 "cells": [
  {
   "cell_type": "code",
   "execution_count": 1,
   "metadata": {},
   "outputs": [],
   "source": [
    "import handcalcs.render"
   ]
  },
  {
   "cell_type": "markdown",
   "metadata": {},
   "source": [
    "Trapezoid Rule = $$(\\frac{f(x_{0})}{2} + f(x_{1}) + f(x_{2}) + ... + f(x_{n - 1}) + \\frac{f(x_{n})}{2})\\Delta x$$\n",
    "Newton's difference quotient = $$f'(x)=\\lim_{h\\rightarrow 0}\\frac{f(x + h) - f(x)}{h}$$\n",
    "Symmetric difference quotient = $$f'(x)=\\lim_{h\\rightarrow 0}\\frac{f(x + h) - f(x - h)}{2h}$$"
   ]
  },
  {
   "cell_type": "code",
   "execution_count": null,
   "metadata": {},
   "outputs": [],
   "source": [
    "def numerical_derivative(f, x, h=0.0000001):\n",
    "    return ((f(x + h) - f(x)) / h, (f(x + h) - f(x - h)) / (2 * h))"
   ]
  },
  {
   "cell_type": "code",
   "execution_count": null,
   "metadata": {},
   "outputs": [],
   "source": [
    "def symbolic_derivative(f):\n",
    "    pass"
   ]
  },
  {
   "cell_type": "code",
   "execution_count": 37,
   "metadata": {},
   "outputs": [],
   "source": [
    "def definite_integral(f, a, b):\n",
    "    n = abs(b - a) * 100000\n",
    "    delta_x = (b - a)/n\n",
    "    l = [f(a + (i*delta_x)) for i in range(n)]\n",
    "    l[0] = l[0]/2\n",
    "    l[-1] = l[-1]/2\n",
    "    return sum(l) * delta_x"
   ]
  },
  {
   "cell_type": "code",
   "execution_count": 51,
   "metadata": {},
   "outputs": [
    {
     "name": "stdout",
     "output_type": "stream",
     "text": [
      "(6.000000301042974, 5.999999999062311)\n"
     ]
    }
   ],
   "source": [
    "g = lambda x: 3*x**2\n",
    "print(numerical_derivative(g, 1))"
   ]
  },
  {
   "cell_type": "code",
   "execution_count": 40,
   "metadata": {},
   "outputs": [
    {
     "name": "stdout",
     "output_type": "stream",
     "text": [
      "8.999910000350102\n"
     ]
    }
   ],
   "source": [
    "g = lambda x: x**2\n",
    "print(definite_integral(g, 0, 3))"
   ]
  },
  {
   "cell_type": "code",
   "execution_count": null,
   "metadata": {},
   "outputs": [],
   "source": [
    "web = \"https://www.whitman.edu/mathematics/calculus_online/section08.06.html\""
   ]
  }
 ],
 "metadata": {
  "kernelspec": {
   "display_name": "Python 3",
   "language": "python",
   "name": "python3"
  },
  "language_info": {
   "codemirror_mode": {
    "name": "ipython",
    "version": 3
   },
   "file_extension": ".py",
   "mimetype": "text/x-python",
   "name": "python",
   "nbconvert_exporter": "python",
   "pygments_lexer": "ipython3",
   "version": "3.7.3"
  }
 },
 "nbformat": 4,
 "nbformat_minor": 1
}
