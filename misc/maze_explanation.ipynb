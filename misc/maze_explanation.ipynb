{
 "cells": [
  {
   "cell_type": "code",
   "execution_count": 1,
   "metadata": {},
   "outputs": [],
   "source": [
    "import handcalcs.render"
   ]
  },
  {
   "cell_type": "code",
   "execution_count": 31,
   "metadata": {},
   "outputs": [],
   "source": [
    "import random\n",
    "from collections import ChainMap\n",
    "from IPython.display import display_pretty, clear_output\n",
    "from time import sleep\n",
    "\n",
    "\n",
    "class MazeCreator:\n",
    "    def __init__(self, w, h):\n",
    "        self.width = w\n",
    "        self.height = h\n",
    "        self.grid = [\n",
    "            [\n",
    "                (\"-\" if (j + 1) % 2 == 0 else \"/\") if i % 2 == 0 else (\"O\" if (j + 1) % 2 == 0 else \"|\")\n",
    "                for j in range(self.width + (1 if self.width % 2 == 0 else 0))\n",
    "            ]\n",
    "            for i in range(self.height + (1 if self.height % 2 == 0 else 0))\n",
    "        ]\n",
    "        # Cell positions, e.g (acc_x, acc_y): (puz_x, puz_y), sequence is 2n + 1\n",
    "        self.cell_table = dict(ChainMap(*[\n",
    "            {(i, j): ((i * 2) + 1, (j * 2) + 1) for j in range(len(self.grid) // 2)}\n",
    "            for i in range(len(self.grid) // 2)\n",
    "        ]))\n",
    "    def get_adjacent_walls(self, cell: tuple) -> list:\n",
    "        \"\"\"\n",
    "        Gets walls adjacent to cell\n",
    "        :param cell: (x, y) coord for cell to check\n",
    "        :return: Coords of all adjacent walls\n",
    "        \"\"\"\n",
    "        return [i for i in [\n",
    "            (cell[0] + 1, cell[1]), (cell[0] - 1, cell[1]), (cell[0], cell[1] + 1), (cell[0], cell[1] - 1)\n",
    "        ] if (0 < i[0] < len(self.grid[0]) - 1 and 0 < i[1] < len(self.grid) - 1) and self.grid[i[1]][i[0]] != \" \"]\n",
    "\n",
    "    def create(self, start_pos: tuple) -> None:\n",
    "        \"\"\"\n",
    "        Creates maze using Randomized Prim's algorithm\n",
    "        Example using 10x10:\n",
    "        /-/-/-/-/-/\n",
    "        |X X X X|X|\n",
    "        / / /-/ / /\n",
    "        |X|X X|X X|\n",
    "        /-/ / /-/-/\n",
    "        |X X|X X X|\n",
    "        /-/ /-/-/-/\n",
    "        |X X X X X|\n",
    "        /-/ /-/-/ /\n",
    "        |X X X|X X|\n",
    "        /-/-/-/-/-/\n",
    "\n",
    "        / = unused vertex, - = horizontal wall, | = vertical wall, ' ' = door\n",
    "        :param start_pos: (x, y) of start position\n",
    "        :return: None\n",
    "        \"\"\"\n",
    "\n",
    "        # In form (x, y), therefore must be used as grid[wall[1]][wall[0]]\n",
    "        puz_cur_pos = (1, 1)\n",
    "        self.grid[puz_cur_pos[1]][puz_cur_pos[0]] = \"X\"\n",
    "        walls = [*self.get_adjacent_walls(puz_cur_pos)]\n",
    "        while walls:\n",
    "            wall = random.choice(walls)\n",
    "            # Vertical wall separating horizontal cells, checks if one isnt visited using xor\n",
    "            if (self.grid[wall[1]][wall[0] - 1] == \"O\") ^ (self.grid[wall[1]][wall[0] + 1] == \"O\"):\n",
    "                if self.grid[wall[1]][wall[0] - 1] == \"O\":\n",
    "                    cell = (wall[0] - 1, wall[1])\n",
    "                    self.grid[wall[1]][wall[0] - 1] = \"X\"\n",
    "\n",
    "                elif self.grid[wall[1]][wall[0] + 1] == \"O\":\n",
    "                    cell = (wall[0] + 1, wall[1])\n",
    "                    self.grid[wall[1]][wall[0] + 1] = \"X\"\n",
    "                self.grid[wall[1]][wall[0]] = \" \"\n",
    "                walls.extend(self.get_adjacent_walls(cell))\n",
    "\n",
    "            # Horizontal wall separating vertical cells, checks if one isnt visited using xor\n",
    "            if (self.grid[wall[1] - 1][wall[0]] == \"O\") ^ (self.grid[wall[1] + 1][wall[0]] == \"O\"):\n",
    "                if self.grid[wall[1] - 1][wall[0]] == \"O\":\n",
    "                    cell = (wall[0], wall[1] - 1)\n",
    "                    self.grid[wall[1] - 1][wall[0]] = \"X\"\n",
    "\n",
    "                elif self.grid[wall[1] + 1][wall[0]] == \"O\":\n",
    "                    cell = (wall[0], wall[1] + 1)\n",
    "                    self.grid[wall[1] + 1][wall[0]] = \"X\"\n",
    "\n",
    "                self.grid[wall[1]][wall[0]] = \" \"\n",
    "                walls.extend(self.get_adjacent_walls(cell))\n",
    "            clear_output(wait=True)\n",
    "            print(\"\\n\".join(\"\".join(i) for i in self.grid))\n",
    "            sleep(0.2)\n",
    "            walls.remove(wall)\n",
    "\n",
    "        return \"\\n\".join(\"\".join(i) for i in self.grid)\n"
   ]
  },
  {
   "cell_type": "code",
   "execution_count": 34,
   "metadata": {},
   "outputs": [
    {
     "name": "stdout",
     "output_type": "stream",
     "text": [
      "/-/-/-/-/-/-/-/-/-/-/\n",
      "|X|X|X|X X X X|X|X|X|\n",
      "/ / / / /-/-/-/ / / /\n",
      "|X X X X X X|X X|X X|\n",
      "/ /-/ /-/ / /-/ /-/ /\n",
      "|X|X X|X X|X X X X X|\n",
      "/ / /-/-/ /-/-/ / / /\n",
      "|X|X X|X X X|X X|X|X|\n",
      "/ /-/-/ / / /-/-/-/-/\n",
      "|X|X X X|X|X X|X X X|\n",
      "/ /-/-/ /-/-/ / /-/ /\n",
      "|X|X X X X X|X|X X|X|\n",
      "/ / / /-/-/ /-/ /-/ /\n",
      "|X|X|X|X X X X X X|X|\n",
      "/-/ /-/ / /-/ / / / /\n",
      "|X|X|X X|X|X X|X|X|X|\n",
      "/ / /-/-/ /-/ /-/ / /\n",
      "|X|X|X X|X|X|X|X X|X|\n",
      "/ / /-/ /-/ / / / /-/\n",
      "|X X|X X X X X|X|X X|\n",
      "/-/-/-/-/-/-/-/-/-/-/\n"
     ]
    },
    {
     "data": {
      "text/plain": [
       "'/-/-/-/-/-/-/-/-/-/-/\\n|X|X|X|X X X X|X|X|X|\\n/ / / / /-/-/-/ / / /\\n|X X X X X X|X X|X X|\\n/ /-/ /-/ / /-/ /-/ /\\n|X|X X|X X|X X X X X|\\n/ / /-/-/ /-/-/ / / /\\n|X|X X|X X X|X X|X|X|\\n/ /-/-/ / / /-/-/-/-/\\n|X|X X X|X|X X|X X X|\\n/ /-/-/ /-/-/ / /-/ /\\n|X|X X X X X|X|X X|X|\\n/ / / /-/-/ /-/ /-/ /\\n|X|X|X|X X X X X X|X|\\n/-/ /-/ / /-/ / / / /\\n|X|X|X X|X|X X|X|X|X|\\n/ / /-/-/ /-/ /-/ / /\\n|X|X|X X|X|X|X|X X|X|\\n/ / /-/ /-/ / / / /-/\\n|X X|X X X X X|X|X X|\\n/-/-/-/-/-/-/-/-/-/-/'"
      ]
     },
     "execution_count": 34,
     "metadata": {},
     "output_type": "execute_result"
    }
   ],
   "source": [
    "MazeCreator(20, 20).create((0, 0))"
   ]
  },
  {
   "cell_type": "code",
   "execution_count": 35,
   "metadata": {},
   "outputs": [
    {
     "name": "stdout",
     "output_type": "stream",
     "text": [
      "\u001b[31m\"red\"\u001b[0m\n"
     ]
    }
   ],
   "source": [
    "print(\"\\x1b[31m\\\"red\\\"\\x1b[0m\")"
   ]
  },
  {
   "cell_type": "code",
   "execution_count": null,
   "metadata": {},
   "outputs": [],
   "source": []
  }
 ],
 "metadata": {
  "kernelspec": {
   "display_name": "Python 3",
   "language": "python",
   "name": "python3"
  },
  "language_info": {
   "codemirror_mode": {
    "name": "ipython",
    "version": 3
   },
   "file_extension": ".py",
   "mimetype": "text/x-python",
   "name": "python",
   "nbconvert_exporter": "python",
   "pygments_lexer": "ipython3",
   "version": "3.7.3"
  }
 },
 "nbformat": 4,
 "nbformat_minor": 1
}
